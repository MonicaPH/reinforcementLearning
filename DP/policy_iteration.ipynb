{
 "cells": [
  {
   "cell_type": "code",
   "execution_count": 1,
   "metadata": {},
   "outputs": [],
   "source": [
    "import numpy as np\n",
    "import sys\n",
    "if \"../\" not in sys.path:\n",
    "    sys.path.append(\"../\")\n",
    "from lib.envs.gridworld import GridworldEnv"
   ]
  },
  {
   "cell_type": "code",
   "execution_count": 48,
   "metadata": {},
   "outputs": [
    {
     "name": "stdout",
     "output_type": "stream",
     "text": [
      "T  o  o  o\n",
      "o  o  o  o\n",
      "x  o  o  o\n",
      "o  o  o  T\n"
     ]
    }
   ],
   "source": [
    "env = GridworldEnv(shape=[4,4])\n",
    "env._render()"
   ]
  },
  {
   "cell_type": "code",
   "execution_count": 49,
   "metadata": {},
   "outputs": [],
   "source": [
    "def policy_evaluation(policy, env, V=np.zeros(env.nS), discount_factor=1.0, theta=0.00001):\n",
    "    \"\"\"\n",
    "    Evaluate a policy given an environment and a full description of the environment's dynamics.\n",
    "    \n",
    "    Args:\n",
    "        policy: [S, A] shaped matrix representing the policy.\n",
    "        env: OpenAI env. env.P represents the transition probabilities of the environment.\n",
    "            env.P[s][a] is a list of transition tuples (prob, next_state, reward, done).\n",
    "            env.nS is a number of states in the environment. \n",
    "            env.nA is a number of actions in the environment.\n",
    "        theta: We stop evaluation once our value function change is less than theta for all states.\n",
    "        discount_factor: Gamma discount factor.\n",
    "    \n",
    "    Returns:\n",
    "        Vector of length env.nS representing the value function.\n",
    "    \"\"\"\n",
    "    it = 0\n",
    "    while True:\n",
    "        # TODO: Implement!\n",
    "        delta = 0\n",
    "        for s in range(env.nS):\n",
    "            v = 0\n",
    "            # possible next actions\n",
    "            for a, action_prob in enumerate(policy[s]):\n",
    "                # possible next states\n",
    "                for (prob, next_state, reward, done) in env.P[s][a]:\n",
    "                    v += action_prob * prob * (reward + discount_factor * V[next_state])\n",
    "            delta = np.maximum(delta, abs(v - V[s]))\n",
    "            V[s] = v\n",
    "        if delta < theta:\n",
    "            break\n",
    "        \n",
    "        if (it+1) % 10 == 0:\n",
    "            print('Iteration: {}'.format(it + 1))\n",
    "            print('Delta: {}'.format(delta))\n",
    "        it += 1\n",
    "        \n",
    "    return np.array(V)"
   ]
  },
  {
   "cell_type": "code",
   "execution_count": 50,
   "metadata": {},
   "outputs": [],
   "source": [
    "def policy_iteration(env, policy_eval_fn, discount_factor=1.0):\n",
    "    \"\"\"\n",
    "    Policy Improvement Algorithm. Iteratively evaluates and improves a policy\n",
    "    until an optimal policy is found.\n",
    "    \n",
    "    Args:\n",
    "        env: The OpenAI envrionment.\n",
    "        policy_eval_fn: Policy Evaluation function that takes 3 arguments:\n",
    "            policy, env, discount_factor.\n",
    "        discount_factor: gamma discount factor.\n",
    "        \n",
    "    Returns:\n",
    "        A tuple (policy, V). \n",
    "        policy is the optimal policy, a matrix of shape [S, A] where each state s\n",
    "        contains a valid probability distribution over actions.\n",
    "        V is the value function for the optimal policy.\n",
    "    \"\"\"\n",
    "    # start with a random policy\n",
    "    # TODO: create random policy\n",
    "    policy = np.ones([env.nS, env.nA]) / env.nA\n",
    "    V = policy_eval_fn(policy, env)\n",
    "    \n",
    "    # implement one step lookahead to calculate value of all actions in a given state\n",
    "    def one_step_lookahead(state, V):\n",
    "        \"\"\"\n",
    "        Helper fn to calculate value of all actions in a given state\n",
    "        Args:\n",
    "            state: The state to consider (int)\n",
    "            V: The value to use as an estimator, Vector of length env.nS\n",
    "        \n",
    "        Returns:\n",
    "            A vector of length env.nA containing the expected value of each action.\n",
    "        \"\"\"\n",
    "        A = np.zeros((env.nA))\n",
    "        for a in range(env.nA):\n",
    "            for (prob, nex_state, reward, done) in env.P[state][a]:\n",
    "                A[a] += prob * (reward + discount_factor * V[nex_state])\n",
    "        return A\n",
    "    \n",
    "    while True:\n",
    "        V = policy_eval_fn(policy, env, V, discount_factor)\n",
    "        policy_stable = True\n",
    "        \n",
    "        for s in range(env.nS):\n",
    "            # get the best action\n",
    "            old_action = np.argmax(policy[s])\n",
    "            \n",
    "            # one step lookahead and get the best action to take\n",
    "            action_values = one_step_lookahead(s, V)\n",
    "            best_action = np.argmax(action_values)\n",
    "            if old_action != best_action:\n",
    "                policy_stable = False\n",
    "            policy[s] = np.eye(env.nA)[best_action]\n",
    "        if policy_stable:\n",
    "            break\n",
    "        \n",
    "    return policy, V"
   ]
  },
  {
   "cell_type": "code",
   "execution_count": 51,
   "metadata": {},
   "outputs": [
    {
     "name": "stdout",
     "output_type": "stream",
     "text": [
      "Iteration: 10\n",
      "Delta: 0.8924059502996897\n",
      "Iteration: 20\n",
      "Delta: 0.372594031842965\n",
      "Iteration: 30\n",
      "Delta: 0.1552741675450946\n",
      "Iteration: 40\n",
      "Delta: 0.06470839506731352\n",
      "Iteration: 50\n",
      "Delta: 0.02696634228047401\n",
      "Iteration: 60\n",
      "Delta: 0.011237855848747813\n",
      "Iteration: 70\n",
      "Delta: 0.004683223359091215\n",
      "Iteration: 80\n",
      "Delta: 0.0019516695467842737\n",
      "Iteration: 90\n",
      "Delta: 0.0008133317007938956\n",
      "Iteration: 100\n",
      "Delta: 0.0003389449082717988\n",
      "Iteration: 110\n",
      "Delta: 0.0001412506739058017\n",
      "Iteration: 120\n",
      "Delta: 5.886429443435759e-05\n",
      "Iteration: 130\n",
      "Delta: 2.453089294007782e-05\n",
      "Iteration: 140\n",
      "Delta: 1.0222915509672248e-05\n"
     ]
    }
   ],
   "source": [
    "policy, V = policy_iteration(env, policy_evaluation)"
   ]
  },
  {
   "cell_type": "code",
   "execution_count": 54,
   "metadata": {},
   "outputs": [
    {
     "name": "stdout",
     "output_type": "stream",
     "text": [
      "Policy Probability Distribution:\n",
      "[[1. 0. 0. 0.]\n",
      " [0. 0. 0. 1.]\n",
      " [0. 0. 0. 1.]\n",
      " [0. 0. 1. 0.]\n",
      " [1. 0. 0. 0.]\n",
      " [1. 0. 0. 0.]\n",
      " [1. 0. 0. 0.]\n",
      " [0. 0. 1. 0.]\n",
      " [1. 0. 0. 0.]\n",
      " [1. 0. 0. 0.]\n",
      " [0. 1. 0. 0.]\n",
      " [0. 0. 1. 0.]\n",
      " [1. 0. 0. 0.]\n",
      " [0. 1. 0. 0.]\n",
      " [0. 1. 0. 0.]\n",
      " [1. 0. 0. 0.]]\n",
      "\n",
      "Reshaped Grid Policy (0=up, 1=right, 2=down, 3=left):\n",
      "[[0 3 3 2]\n",
      " [0 0 0 2]\n",
      " [0 0 1 2]\n",
      " [0 1 1 0]]\n",
      "\n"
     ]
    }
   ],
   "source": [
    "print(\"Policy Probability Distribution:\")\n",
    "print(policy)\n",
    "print(\"\")\n",
    "\n",
    "print(\"Reshaped Grid Policy (0=up, 1=right, 2=down, 3=left):\")\n",
    "print(np.reshape(np.argmax(policy, axis=1), env.shape))\n",
    "print()"
   ]
  },
  {
   "cell_type": "code",
   "execution_count": 56,
   "metadata": {},
   "outputs": [
    {
     "name": "stdout",
     "output_type": "stream",
     "text": [
      "Value Function: \n",
      "[ 0. -1. -2. -3. -1. -2. -3. -2. -2. -3. -2. -1. -3. -2. -1.  0.]\n",
      "\n",
      "Reshape value function according to grid: \n",
      "[[ 0. -1. -2. -3.]\n",
      " [-1. -2. -3. -2.]\n",
      " [-2. -3. -2. -1.]\n",
      " [-3. -2. -1.  0.]]\n"
     ]
    }
   ],
   "source": [
    "print(\"Value Function: \")\n",
    "print(V)\n",
    "print(\"\")\n",
    "\n",
    "print(\"Reshape value function according to grid: \")\n",
    "print(np.reshape(V, env.shape))"
   ]
  },
  {
   "cell_type": "code",
   "execution_count": null,
   "metadata": {},
   "outputs": [],
   "source": []
  }
 ],
 "metadata": {
  "kernelspec": {
   "display_name": "Python 3",
   "language": "python",
   "name": "python3"
  },
  "language_info": {
   "codemirror_mode": {
    "name": "ipython",
    "version": 3
   },
   "file_extension": ".py",
   "mimetype": "text/x-python",
   "name": "python",
   "nbconvert_exporter": "python",
   "pygments_lexer": "ipython3",
   "version": "3.7.3"
  }
 },
 "nbformat": 4,
 "nbformat_minor": 4
}