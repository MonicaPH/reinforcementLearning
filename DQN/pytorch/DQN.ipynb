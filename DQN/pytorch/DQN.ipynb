{
 "cells": [
  {
   "cell_type": "code",
   "execution_count": 20,
   "metadata": {},
   "outputs": [],
   "source": [
    "import sys\n",
    "import gym\n",
    "import math\n",
    "import random\n",
    "import numpy as np\n",
    "import matplotlib\n",
    "import matplotlib.pyplot as plt\n",
    "from collections import namedtuple\n",
    "from itertools import count\n",
    "from PIL import Image\n",
    "\n",
    "import torch\n",
    "import torch.nn as nn\n",
    "import torch.optim as optim\n",
    "import torch.nn.functional as F\n",
    "import torchvision.transforms as T\n",
    "from torch.autograd import Variable"
   ]
  },
  {
   "cell_type": "code",
   "execution_count": 4,
   "metadata": {},
   "outputs": [],
   "source": [
    "# set up matplotlib\n",
    "is_ipython = 'inline' in matplotlib.get_backend()\n",
    "if is_ipython:\n",
    "    from IPython import display"
   ]
  },
  {
   "cell_type": "code",
   "execution_count": 3,
   "metadata": {},
   "outputs": [
    {
     "name": "stderr",
     "output_type": "stream",
     "text": [
      "//anaconda3/lib/python3.7/site-packages/gym/logger.py:30: UserWarning: \u001b[33mWARN: Box bound precision lowered by casting to float32\u001b[0m\n",
      "  warnings.warn(colorize('%s: %s'%('WARN', msg % args), 'yellow'))\n"
     ]
    },
    {
     "name": "stdout",
     "output_type": "stream",
     "text": [
      "(4,)\n",
      "2\n"
     ]
    }
   ],
   "source": [
    "env = gym.make('CartPole-v0')\n",
    "print(env.observation_space.shape)\n",
    "print(env.action_space.n)"
   ]
  },
  {
   "cell_type": "code",
   "execution_count": 5,
   "metadata": {},
   "outputs": [],
   "source": [
    "# if gpu is to be used\n",
    "# device = torch.device(\"cuda\" if torch.cuda.is_available() else \"cpu\")"
   ]
  },
  {
   "cell_type": "code",
   "execution_count": 6,
   "metadata": {},
   "outputs": [],
   "source": [
    "## Replay Memory\n",
    "Transition = namedtuple(\"Transition\", (\"state\", \"action\", \"reward\", \"next_state\", \"done\"))\n",
    "\n",
    "class ReplayMemory(object):\n",
    "    def __init__(self, maxlen):\n",
    "        self.capacity = maxlen\n",
    "        self.memory = list()\n",
    "        self.position = 0\n",
    "    \n",
    "    def push(self, *args):\n",
    "        \"\"\"Saves Transition\"\"\"\n",
    "        if len(self.memory) < self.capacity:\n",
    "            self.memory.append(None)\n",
    "        self.memory[self.position] = Transition(*args)\n",
    "        self.position = (self.position + 1) % self.capacity\n",
    "    \n",
    "    def sample(self, batch_size):\n",
    "        return random.sample(self.memory, batch_size)\n",
    "    \n",
    "    def __len__(self):\n",
    "        return len(self.memory)"
   ]
  },
  {
   "cell_type": "code",
   "execution_count": 7,
   "metadata": {},
   "outputs": [],
   "source": [
    "class DQNEstimator(nn.Module):\n",
    "    def __init__(self, state_size, action_size):\n",
    "        super(DQNEstimator, self).__init__()\n",
    "        self.model = nn.Sequential(\n",
    "            nn.Linear(state_size, 32),\n",
    "            nn.ReLU(),\n",
    "            nn.Linear(32, 24),\n",
    "            nn.ReLU(),\n",
    "            nn.Linear(24, action_size)\n",
    "        )\n",
    "    \n",
    "    def forward(self, x):\n",
    "        return self.model(x)"
   ]
  },
  {
   "cell_type": "code",
   "execution_count": 103,
   "metadata": {},
   "outputs": [],
   "source": [
    "class Agent():\n",
    "    def __init__(self, state_size, acion_size):\n",
    "        self.state_size = state_size\n",
    "        self.action_size = action_size\n",
    "        \n",
    "        # visualising training\n",
    "        self.render = False\n",
    "        self.load_model = False\n",
    "        \n",
    "        # hyperparams for estimator\n",
    "        self.gamma = 0.99\n",
    "        self.lr = 0.001\n",
    "        self.replay_memory_size = 30000\n",
    "        self.epsilon = 1.0\n",
    "        self.min_epsilon = 0.01\n",
    "        self.explore_steps = 4000\n",
    "        self.epsilon_decay = (self.epsilon - self.min_epsilon) / self.explore_steps\n",
    "        self.batch_size = 32\n",
    "        self.replay_memory_init_size = 6000\n",
    "        self.update_target_model_every = 1000\n",
    "        \n",
    "        # Replay Memory\n",
    "        self.memory = ReplayMemory(self.replay_memory_size)\n",
    "        \n",
    "        # create estimator and target estimators\n",
    "        self.q_estimator = DQNEstimator(state_size, action_size)\n",
    "        self.target_estimator = DQNEstimator(state_size, action_size)\n",
    "        self.optimizer = optim.Adam(self.q_estimator.parameters(), lr=self.lr)\n",
    "        \n",
    "        # initialize target estimator\n",
    "        # TODO: copy q_estimator weights to target model\n",
    "        \n",
    "        if self.load_model:\n",
    "            # TODO: Load saved Q estimator\n",
    "            pass\n",
    "        \n",
    "    def update_target_estimator(self):\n",
    "        self.target_estimator.load_state_dict(self.q_estimator.state_dict())\n",
    "        \n",
    "    def get_action(self, state):\n",
    "        # random action\n",
    "        if np.random.rand() <= self.epsilon:\n",
    "            return random.randrange(self.action_size)\n",
    "        else:   # greedy action\n",
    "            state = Variable(torch.from_numpy(state)).float()\n",
    "            q_values = self.q_estimator(state)\n",
    "            _, best_action = torch.max(q_values, dim=1)\n",
    "            return int(best_action)\n",
    "    \n",
    "    def train_network(self):\n",
    "        # TODO: epsilon decay\n",
    "        if self.epsilon > self.min_epsilon:\n",
    "            self.epsilon -= self.epsilon_decay\n",
    "        \n",
    "        # TODO: fetch samples\n",
    "        samples = self.memory.sample(self.batch_size)\n",
    "        samples = np.array(samples).transpose()\n",
    "        \n",
    "        # TODO: create batches of states, actions, rewards, next_states, done\n",
    "        # stack all the states\n",
    "        states = np.vstack(samples[0])\n",
    "        actions = torch.LongTensor(list(samples[1]))\n",
    "        rewards = torch.FloatTensor(list(samples[2]))\n",
    "        next_states = Variable(torch.FloatTensor(np.vstack(samples[3])))\n",
    "        is_dones = samples[4]\n",
    "        \n",
    "        is_dones = torch.FloatTensor(is_dones.astype(int))\n",
    "        \n",
    "        # TODO: forward propagation Q_network for current states\n",
    "        states = torch.Tensor(states).float()\n",
    "        preds = self.q_estimator(states)\n",
    "        \n",
    "        # TODO: onehot encoding actions\n",
    "        actions_one_hot = F.one_hot(actions, num_classes=self.action_size)\n",
    "        actions_one_hot = torch.FloatTensor(actions_one_hot.float())\n",
    "        actions_one_hot = Variable(actions_one_hot)\n",
    "        # TODO: get current actions' action value\n",
    "        preds = torch.sum(torch.mul(preds, actions_one_hot), dim=1)\n",
    "        \n",
    "        # TODO: Q function of next state\n",
    "        nex_state_preds = self.target_estimator(next_states).data\n",
    "        \n",
    "        # TODO: calculate Q-Learning target\n",
    "        target = rewards + (1 - is_dones) * self.gamma * torch.max(nex_state_preds, dim=1)[0]\n",
    "        target = Variable(target)\n",
    "        \n",
    "        # TODO: calculate mse loss (preds and targets)\n",
    "        loss = F.mse_loss(preds, target).mean()\n",
    "        \n",
    "        # TODO: backward propagation\n",
    "        self.optimizer.zero_grad()\n",
    "        loss.backward()\n",
    "        self.optimizer.step()\n",
    "        return loss.item()"
   ]
  },
  {
   "cell_type": "code",
   "execution_count": 104,
   "metadata": {},
   "outputs": [
    {
     "name": "stdout",
     "output_type": "stream",
     "text": [
      "Total Steps: 83302\t Episode 500/500\t Loss: 1.51761722564697274Saved model\n"
     ]
    },
    {
     "name": "stderr",
     "output_type": "stream",
     "text": [
      "//anaconda3/lib/python3.7/site-packages/torch/serialization.py:360: UserWarning: Couldn't retrieve source code for container of type DQNEstimator. It won't be checked for correctness upon loading.\n",
      "  \"type \" + obj.__name__ + \". It won't be checked \"\n"
     ]
    },
    {
     "data": {
      "image/png": "[encoded data removed]",
      "text/plain": [
       "<Figure size 432x288 with 1 Axes>"
      ]
     },
     "metadata": {
      "needs_background": "light"
     },
     "output_type": "display_data"
    }
   ],
   "source": [
    "state_size = env.observation_space.shape[0]\n",
    "action_size = env.action_space.n\n",
    "\n",
    "agent = Agent(state_size, action_size)\n",
    "scores, episodes = list(), list()\n",
    "\n",
    "num_episodes = 500\n",
    "total_steps = 0\n",
    "state = env.reset()\n",
    "state = np.reshape(state, [1, state_size])\n",
    "\n",
    "flag = False\n",
    "# populate replay memory\n",
    "score = 0\n",
    "for i in range(agent.replay_memory_init_size):\n",
    "    action = agent.get_action(state)\n",
    "    next_state, reward, done, _ = env.step(action)\n",
    "    next_state = np.reshape(next_state, [1, state_size])\n",
    "    reward = reward if not done or score == 499 else -10\n",
    "    score += reward\n",
    "    agent.memory.push(state, action, reward, next_state, done)\n",
    "    if done:\n",
    "        state = env.reset()\n",
    "        state = np.reshape(state, [1, state_size])\n",
    "        score = 0\n",
    "    else:\n",
    "        state = next_state\n",
    "\n",
    "\n",
    "for i_episode in range(1, num_episodes + 1):\n",
    "    score = 0\n",
    "    \n",
    "    # update target network\n",
    "    agent.update_target_estimator()\n",
    "    \n",
    "    state = env.reset()\n",
    "    state = np.reshape(state, [1, state_size])\n",
    "    \n",
    "    for t in count():\n",
    "        if agent.render:\n",
    "            env.render()\n",
    "        \n",
    "        action = agent.get_action(state)\n",
    "        next_state, reward, done, _ = env.step(action)\n",
    "        next_state = np.reshape(next_state, [1, state_size])\n",
    "        reward = reward if not done or score == 499 else -10\n",
    "        \n",
    "        agent.memory.push(state, action, reward, next_state, done)\n",
    "        \n",
    "        loss = agent.train_network()\n",
    "        score += reward\n",
    "        state = next_state\n",
    "        \n",
    "        if done:\n",
    "            score = score if score==500 else score + 10\n",
    "            scores.append(score)\n",
    "            episodes.append(i_episode)\n",
    "            plt.plot(episodes, scores, label=\"Scores vs Episode\")\n",
    "            plt.savefig(\"plots/cartpole_dqn.png\")\n",
    "            if np.mean(scores[-min(10, len(scores)):]) > 490:\n",
    "                torch.save(agent.q_estimator, \"save_model/cartpole_dqn\")\n",
    "                print(\"Saved Model\")\n",
    "                flag = True\n",
    "                sys.exit()\n",
    "            break\n",
    "        total_steps += 1\n",
    "    print(\"\\rTotal Steps: {}\\t Episode {}/{}\\t Loss: {}\".format(total_steps, i_episode, num_episodes, loss), end=\"\")\n",
    "    sys.stdout.flush()\n",
    "\n",
    "if not flag:\n",
    "    torch.save(agent.q_estimator, \"save_model/cartpole_dqn\")\n",
    "    print(\"Saved model\")"
   ]
  },
  {
   "cell_type": "code",
   "execution_count": 105,
   "metadata": {},
   "outputs": [
    {
     "data": {
      "text/plain": [
       "199.0"
      ]
     },
     "execution_count": 105,
     "metadata": {},
     "output_type": "execute_result"
    }
   ],
   "source": [
    "max(scores)"
   ]
  },
  {
   "cell_type": "code",
   "execution_count": null,
   "metadata": {},
   "outputs": [],
   "source": []
  }
 ],
 "metadata": {
  "kernelspec": {
   "display_name": "Python 3",
   "language": "python",
   "name": "python3"
  },
  "language_info": {
   "codemirror_mode": {
    "name": "ipython",
    "version": 3
   },
   "file_extension": ".py",
   "mimetype": "text/x-python",
   "name": "python",
   "nbconvert_exporter": "python",
   "pygments_lexer": "ipython3",
   "version": "3.7.3"
  }
 },
 "nbformat": 4,
 "nbformat_minor": 4
}
